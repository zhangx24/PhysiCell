{
 "cells": [
  {
   "cell_type": "markdown",
   "id": "57bf8d94",
   "metadata": {},
   "source": [
    "# PhysiCell 2021 Virtual Workshop and Hackathon\n",
    "## Session 2: PhysiCell First Dive\n",
    "* Refresher: Sample and Template Projects \n",
    "* Refresher: Project Structure\n",
    "* Cells, Phenotype, and Cell Defintions\n",
    "* Learn about general modeling workflow\n",
    "  * Basic \t(Sessions 1, 2)\n",
    "  * Intermediate \t(Session 5)\n",
    "  * Full \t(Sessions 6-12)\n",
    "* Populate, build, and run a basic model (Basic Workflow)\n",
    "* Load and visualize data in Python"
   ]
  },
  {
   "cell_type": "markdown",
   "id": "47b4b262",
   "metadata": {},
   "source": [
    "### Code Section 1"
   ]
  },
  {
   "cell_type": "code",
   "execution_count": 1,
   "id": "2eac72a9",
   "metadata": {},
   "outputs": [],
   "source": [
    "#  add Python-loader repo to the path \n",
    "import sys\n",
    "sys.path.insert(0, '../../python-loader/')\n",
    "from pyMCDS import pyMCDS\n",
    "\n",
    "import numpy as np\n",
    "import matplotlib.pyplot as plt"
   ]
  },
  {
   "cell_type": "code",
   "execution_count": 2,
   "id": "44e1ac12",
   "metadata": {},
   "outputs": [
    {
     "name": "stdout",
     "output_type": "stream",
     "text": [
      "./output/PhysiCell_settings.xml ./output/output00000011.xml\r\n",
      "./output/final.xml              ./output/output00000012.xml\r\n",
      "./output/initial.xml            ./output/output00000013.xml\r\n",
      "./output/output00000000.xml     ./output/output00000014.xml\r\n",
      "./output/output00000001.xml     ./output/output00000015.xml\r\n",
      "./output/output00000002.xml     ./output/output00000016.xml\r\n",
      "./output/output00000003.xml     ./output/output00000017.xml\r\n",
      "./output/output00000004.xml     ./output/output00000018.xml\r\n",
      "./output/output00000005.xml     ./output/output00000019.xml\r\n",
      "./output/output00000006.xml     ./output/output00000020.xml\r\n",
      "./output/output00000007.xml     ./output/output00000021.xml\r\n",
      "./output/output00000008.xml     ./output/output00000022.xml\r\n",
      "./output/output00000009.xml     ./output/output00000023.xml\r\n",
      "./output/output00000010.xml     ./output/output00000024.xml\r\n"
     ]
    }
   ],
   "source": [
    "## Type pyMCDS. and hit the tab key to see methods \n",
    "\n",
    "!ls ./output/*.xml "
   ]
  },
  {
   "cell_type": "markdown",
   "id": "aaa57822",
   "metadata": {},
   "source": [
    "### Code Section 2"
   ]
  },
  {
   "cell_type": "code",
   "execution_count": 3,
   "id": "46f66ef0",
   "metadata": {},
   "outputs": [
    {
     "name": "stdout",
     "output_type": "stream",
     "text": [
      "Reading output/output00000024.xml\n",
      "Reading output/initial_mesh0.mat\n",
      "Reading output/output00000024_microenvironment0.mat\n",
      "Parsing PI data\n",
      "Parsing AI data\n",
      "working on discrete cell data...\n",
      "\n",
      "Reading output/output00000024_cells.mat\n"
     ]
    }
   ],
   "source": [
    "mcds = pyMCDS('output00000024.xml', 'output')"
   ]
  },
  {
   "cell_type": "code",
   "execution_count": 4,
   "id": "04532cf9",
   "metadata": {},
   "outputs": [
    {
     "name": "stdout",
     "output_type": "stream",
     "text": [
      "1440.0\n",
      "['ID', 'position_x', 'position_y', 'position_z', 'total_volume', 'cell_type', 'cycle_model', 'current_phase', 'elapsed_time_in_phase', 'nuclear_volume', 'cytoplasmic_volume', 'fluid_fraction', 'calcified_fraction', 'orientation_x', 'orientation_y', 'orientation_z', 'polarity', 'velocity_x', 'velocity_y', 'velocity_z', 'pressure', 'number_of_nuclei', 'damage', 'total_attack_time', 'contact_with_basement_membrane', 'current_cycle_phase_exit_rate', 'dead', 'current_death_model', 'death_rates_0', 'death_rates_1', 'cytoplasmic_biomass_change_rate', 'nuclear_biomass_change_rate', 'fluid_change_rate', 'calcification_rate', 'target_solid_cytoplasmic', 'target_solid_nuclear', 'target_fluid_fraction', 'radius', 'nuclear_radius', 'surface_area', 'cell_cell_adhesion_strength', 'cell_BM_adhesion_strength', 'cell_cell_repulsion_strength', 'cell_BM_repulsion_strength', 'cell_adhesion_affinities_0', 'cell_adhesion_affinities_1', 'cell_adhesion_affinities_2', 'cell_adhesion_affinities_3', 'cell_adhesion_affinities_4', 'relative_maximum_adhesion_distance', 'maximum_number_of_attachments', 'attachment_elastic_constant', 'attachment_rate', 'detachment_rate', 'is_motile', 'persistence_time', 'migration_speed', 'migration_bias_direction_x', 'migration_bias_direction_y', 'migration_bias_direction_z', 'migration_bias', 'motility_vector_x', 'motility_vector_y', 'motility_vector_z', 'chemotaxis_index', 'chemotaxis_direction', 'chemotactic_sensitivities_0', 'chemotactic_sensitivities_1', 'secretion_rates_0', 'secretion_rates_1', 'uptake_rates_0', 'uptake_rates_1', 'saturation_densities_0', 'saturation_densities_1', 'net_export_rates_0', 'net_export_rates_1', 'internalized_total_substrates_0', 'internalized_total_substrates_1', 'fraction_released_at_death_0', 'fraction_released_at_death_1', 'fraction_transferred_when_ingested_0', 'fraction_transferred_when_ingested_1', 'dead_phagocytosis_rate', 'live_phagocytosis_rates_0', 'live_phagocytosis_rates_1', 'live_phagocytosis_rates_2', 'live_phagocytosis_rates_3', 'live_phagocytosis_rates_4', 'attack_rates_0', 'attack_rates_1', 'attack_rates_2', 'attack_rates_3', 'attack_rates_4', 'damage_rate', 'fusion_rates_0', 'fusion_rates_1', 'fusion_rates_2', 'fusion_rates_3', 'fusion_rates_4', 'transformation_rates_0', 'transformation_rates_1', 'transformation_rates_2', 'transformation_rates_3', 'transformation_rates_4', 'sample']\n",
      "['PI', 'AI']\n"
     ]
    }
   ],
   "source": [
    "print(mcds.get_time())  # what simulation time is saved here? \n",
    "print(mcds.get_cell_variables()) # what data are saved in the cells? \n",
    "print(mcds.get_substrate_names())  # what diffusing substrates? "
   ]
  },
  {
   "cell_type": "code",
   "execution_count": 23,
   "id": "bfb06db4",
   "metadata": {},
   "outputs": [
    {
     "data": {
      "text/plain": [
       "dict_keys(['metadata', 'mesh', 'continuum_variables', 'discrete_cells'])"
      ]
     },
     "execution_count": 23,
     "metadata": {},
     "output_type": "execute_result"
    }
   ],
   "source": [
    "mcds.data.keys()"
   ]
  },
  {
   "cell_type": "code",
   "execution_count": 41,
   "id": "d92845c0",
   "metadata": {},
   "outputs": [
    {
     "name": "stdout",
     "output_type": "stream",
     "text": [
      "{'value': 0.016, 'units': '1/min'}\n",
      "(75, 75, 1)\n",
      "Warning: grid spacing may be axis dependent.\n",
      "[0.55135423 0.39746655]\n"
     ]
    }
   ],
   "source": [
    "AI=mcds.data['continuum_variables']['AI']\n",
    "print(AI['decay_rate'])\n",
    "AI_conc = mcds.get_concentrations('AI')\n",
    "print(AI_conc.shape)\n",
    "print(mcds.get_concentrations_at(x=200, y=250, z=0))\n"
   ]
  },
  {
   "cell_type": "markdown",
   "id": "09516d65",
   "metadata": {},
   "source": [
    "### Code Section 3"
   ]
  },
  {
   "cell_type": "code",
   "execution_count": 31,
   "id": "2824c6fb",
   "metadata": {},
   "outputs": [
    {
     "ename": "TypeError",
     "evalue": "unsupported operand type(s) for /: 'dict' and 'int'",
     "output_type": "error",
     "traceback": [
      "\u001b[0;31m---------------------------------------------------------------------------\u001b[0m",
      "\u001b[0;31mTypeError\u001b[0m                                 Traceback (most recent call last)",
      "Input \u001b[0;32mIn [31]\u001b[0m, in \u001b[0;36m<cell line: 1>\u001b[0;34m()\u001b[0m\n\u001b[0;32m----> 1\u001b[0m \u001b[43mnp\u001b[49m\u001b[38;5;241;43m.\u001b[39;49m\u001b[43mmean\u001b[49m\u001b[43m(\u001b[49m\u001b[43m \u001b[49m\u001b[43mmcds\u001b[49m\u001b[38;5;241;43m.\u001b[39;49m\u001b[43mdata\u001b[49m\u001b[43m[\u001b[49m\u001b[38;5;124;43m'\u001b[39;49m\u001b[38;5;124;43mcontinuum_variables\u001b[39;49m\u001b[38;5;124;43m'\u001b[39;49m\u001b[43m]\u001b[49m\u001b[43m[\u001b[49m\u001b[38;5;124;43m'\u001b[39;49m\u001b[38;5;124;43mAI\u001b[39;49m\u001b[38;5;124;43m'\u001b[39;49m\u001b[43m]\u001b[49m\u001b[43m \u001b[49m\u001b[43m)\u001b[49m\n",
      "File \u001b[0;32m<__array_function__ internals>:5\u001b[0m, in \u001b[0;36mmean\u001b[0;34m(*args, **kwargs)\u001b[0m\n",
      "File \u001b[0;32m~/opt/anaconda3/lib/python3.9/site-packages/numpy/core/fromnumeric.py:3440\u001b[0m, in \u001b[0;36mmean\u001b[0;34m(a, axis, dtype, out, keepdims, where)\u001b[0m\n\u001b[1;32m   3437\u001b[0m     \u001b[38;5;28;01melse\u001b[39;00m:\n\u001b[1;32m   3438\u001b[0m         \u001b[38;5;28;01mreturn\u001b[39;00m mean(axis\u001b[38;5;241m=\u001b[39maxis, dtype\u001b[38;5;241m=\u001b[39mdtype, out\u001b[38;5;241m=\u001b[39mout, \u001b[38;5;241m*\u001b[39m\u001b[38;5;241m*\u001b[39mkwargs)\n\u001b[0;32m-> 3440\u001b[0m \u001b[38;5;28;01mreturn\u001b[39;00m \u001b[43m_methods\u001b[49m\u001b[38;5;241;43m.\u001b[39;49m\u001b[43m_mean\u001b[49m\u001b[43m(\u001b[49m\u001b[43ma\u001b[49m\u001b[43m,\u001b[49m\u001b[43m \u001b[49m\u001b[43maxis\u001b[49m\u001b[38;5;241;43m=\u001b[39;49m\u001b[43maxis\u001b[49m\u001b[43m,\u001b[49m\u001b[43m \u001b[49m\u001b[43mdtype\u001b[49m\u001b[38;5;241;43m=\u001b[39;49m\u001b[43mdtype\u001b[49m\u001b[43m,\u001b[49m\n\u001b[1;32m   3441\u001b[0m \u001b[43m                      \u001b[49m\u001b[43mout\u001b[49m\u001b[38;5;241;43m=\u001b[39;49m\u001b[43mout\u001b[49m\u001b[43m,\u001b[49m\u001b[43m \u001b[49m\u001b[38;5;241;43m*\u001b[39;49m\u001b[38;5;241;43m*\u001b[39;49m\u001b[43mkwargs\u001b[49m\u001b[43m)\u001b[49m\n",
      "File \u001b[0;32m~/opt/anaconda3/lib/python3.9/site-packages/numpy/core/_methods.py:191\u001b[0m, in \u001b[0;36m_mean\u001b[0;34m(a, axis, dtype, out, keepdims, where)\u001b[0m\n\u001b[1;32m    189\u001b[0m         ret \u001b[38;5;241m=\u001b[39m ret\u001b[38;5;241m.\u001b[39mdtype\u001b[38;5;241m.\u001b[39mtype(ret \u001b[38;5;241m/\u001b[39m rcount)\n\u001b[1;32m    190\u001b[0m \u001b[38;5;28;01melse\u001b[39;00m:\n\u001b[0;32m--> 191\u001b[0m     ret \u001b[38;5;241m=\u001b[39m \u001b[43mret\u001b[49m\u001b[43m \u001b[49m\u001b[38;5;241;43m/\u001b[39;49m\u001b[43m \u001b[49m\u001b[43mrcount\u001b[49m\n\u001b[1;32m    193\u001b[0m \u001b[38;5;28;01mreturn\u001b[39;00m ret\n",
      "\u001b[0;31mTypeError\u001b[0m: unsupported operand type(s) for /: 'dict' and 'int'"
     ]
    }
   ],
   "source": [
    "np.mean( mcds.data['continuum_variables']['AI'] )"
   ]
  },
  {
   "cell_type": "code",
   "execution_count": null,
   "id": "53f23948",
   "metadata": {},
   "outputs": [],
   "source": [
    "import matplotlib \n",
    "\n",
    "%matplotlib qt \n",
    "\n",
    "matplotlib.rc('xtick', labelsize=15) \n",
    "matplotlib.rc('ytick', labelsize=15) \n",
    "\n",
    "plt.hist( mcds.data['discrete_cells']['oncoprotein'] )\n"
   ]
  },
  {
   "cell_type": "markdown",
   "id": "8c44f028",
   "metadata": {},
   "source": [
    "### Code Section 4"
   ]
  },
  {
   "cell_type": "code",
   "execution_count": 5,
   "id": "16c22285",
   "metadata": {},
   "outputs": [],
   "source": [
    "cx = mcds.data['discrete_cells']['position_x']\n",
    "cy = mcds.data['discrete_cells']['position_y']"
   ]
  },
  {
   "cell_type": "code",
   "execution_count": 28,
   "id": "98986162",
   "metadata": {},
   "outputs": [
    {
     "data": {
      "text/plain": [
       "(-500.0, 500.0, -500.0, 500.0)"
      ]
     },
     "execution_count": 28,
     "metadata": {},
     "output_type": "execute_result"
    },
    {
     "data": {
      "image/png": "[encoded data removed]",
      "text/plain": [
       "<Figure size 432x288 with 1 Axes>"
      ]
     },
     "metadata": {
      "needs_background": "light"
     },
     "output_type": "display_data"
    }
   ],
   "source": [
    "plt.clf()\n",
    "plt.scatter(cx,cy)\n",
    "plt.axis([-500,500,-500,500])"
   ]
  },
  {
   "cell_type": "markdown",
   "id": "84a25d16",
   "metadata": {},
   "source": [
    "### Code Section 5"
   ]
  },
  {
   "cell_type": "code",
   "execution_count": null,
   "id": "31fc78a3",
   "metadata": {},
   "outputs": [],
   "source": [
    "plt.clf()\n",
    "plt.scatter( cx , cy, c=op, s=30 )\n",
    "\n",
    "plt.axis( 'image' )\n",
    "plt.axis( [-250,250,-250,250] )\n",
    "\n",
    "plt.colorbar()\n",
    "\n",
    "plt.title( 'Cells colored by oncoprotein value' , size=20)\n",
    "plt.xlabel( 'x' , size=15 ) \n",
    "plt.ylabel( 'y', size=15 )"
   ]
  },
  {
   "cell_type": "markdown",
   "id": "d4dad6da",
   "metadata": {},
   "source": [
    "### Code Section 6"
   ]
  },
  {
   "cell_type": "code",
   "execution_count": null,
   "id": "079fd23d",
   "metadata": {},
   "outputs": [],
   "source": [
    "mcds = pyMCDS('output00000006.xml', 'output')\n",
    "t=mcds.get_time()\n",
    "cx = mcds.data['discrete_cells']['position_x']\n",
    "cy = mcds.data['discrete_cells']['position_y']\n",
    "op = mcds.data['discrete_cells']['oncoprotein']\n",
    "plt.clf()\n",
    "plt.hist( op ) \n",
    "plt.title( 'oncoprotein at t=' + \\\n",
    "str(t/60) + ' hours' , size=20)"
   ]
  },
  {
   "cell_type": "markdown",
   "id": "2ef07f28",
   "metadata": {},
   "source": [
    "### Code Section 7 "
   ]
  },
  {
   "cell_type": "code",
   "execution_count": 25,
   "id": "26f0693f",
   "metadata": {},
   "outputs": [
    {
     "data": {
      "text/html": [
       "<div>\n",
       "<style scoped>\n",
       "    .dataframe tbody tr th:only-of-type {\n",
       "        vertical-align: middle;\n",
       "    }\n",
       "\n",
       "    .dataframe tbody tr th {\n",
       "        vertical-align: top;\n",
       "    }\n",
       "\n",
       "    .dataframe thead th {\n",
       "        text-align: right;\n",
       "    }\n",
       "</style>\n",
       "<table border=\"1\" class=\"dataframe\">\n",
       "  <thead>\n",
       "    <tr style=\"text-align: right;\">\n",
       "      <th></th>\n",
       "      <th>ID</th>\n",
       "      <th>position_x</th>\n",
       "      <th>position_y</th>\n",
       "      <th>position_z</th>\n",
       "      <th>total_volume</th>\n",
       "      <th>cell_type</th>\n",
       "      <th>cycle_model</th>\n",
       "      <th>current_phase</th>\n",
       "      <th>elapsed_time_in_phase</th>\n",
       "      <th>nuclear_volume</th>\n",
       "      <th>...</th>\n",
       "      <th>fusion_rates_1</th>\n",
       "      <th>fusion_rates_2</th>\n",
       "      <th>fusion_rates_3</th>\n",
       "      <th>fusion_rates_4</th>\n",
       "      <th>transformation_rates_0</th>\n",
       "      <th>transformation_rates_1</th>\n",
       "      <th>transformation_rates_2</th>\n",
       "      <th>transformation_rates_3</th>\n",
       "      <th>transformation_rates_4</th>\n",
       "      <th>sample</th>\n",
       "    </tr>\n",
       "  </thead>\n",
       "  <tbody>\n",
       "    <tr>\n",
       "      <th>0</th>\n",
       "      <td>621.0</td>\n",
       "      <td>-60.147680</td>\n",
       "      <td>130.878286</td>\n",
       "      <td>0.0</td>\n",
       "      <td>1000.000000</td>\n",
       "      <td>2.0</td>\n",
       "      <td>5.0</td>\n",
       "      <td>14.0</td>\n",
       "      <td>204.0</td>\n",
       "      <td>540.000000</td>\n",
       "      <td>...</td>\n",
       "      <td>0.0</td>\n",
       "      <td>0.0</td>\n",
       "      <td>0.0</td>\n",
       "      <td>0.0</td>\n",
       "      <td>0.0</td>\n",
       "      <td>0.0</td>\n",
       "      <td>0.000000</td>\n",
       "      <td>0.0</td>\n",
       "      <td>0.0</td>\n",
       "      <td>1.0</td>\n",
       "    </tr>\n",
       "    <tr>\n",
       "      <th>1</th>\n",
       "      <td>487.0</td>\n",
       "      <td>-29.402090</td>\n",
       "      <td>-36.329676</td>\n",
       "      <td>0.0</td>\n",
       "      <td>1000.000000</td>\n",
       "      <td>2.0</td>\n",
       "      <td>5.0</td>\n",
       "      <td>14.0</td>\n",
       "      <td>156.0</td>\n",
       "      <td>540.000000</td>\n",
       "      <td>...</td>\n",
       "      <td>0.0</td>\n",
       "      <td>0.0</td>\n",
       "      <td>0.0</td>\n",
       "      <td>0.0</td>\n",
       "      <td>0.0</td>\n",
       "      <td>0.0</td>\n",
       "      <td>0.000000</td>\n",
       "      <td>0.0</td>\n",
       "      <td>0.0</td>\n",
       "      <td>1.0</td>\n",
       "    </tr>\n",
       "    <tr>\n",
       "      <th>2</th>\n",
       "      <td>708.0</td>\n",
       "      <td>-166.741754</td>\n",
       "      <td>230.899160</td>\n",
       "      <td>0.0</td>\n",
       "      <td>927.988713</td>\n",
       "      <td>1.0</td>\n",
       "      <td>5.0</td>\n",
       "      <td>14.0</td>\n",
       "      <td>492.0</td>\n",
       "      <td>507.864473</td>\n",
       "      <td>...</td>\n",
       "      <td>0.0</td>\n",
       "      <td>0.0</td>\n",
       "      <td>0.0</td>\n",
       "      <td>0.0</td>\n",
       "      <td>0.0</td>\n",
       "      <td>0.0</td>\n",
       "      <td>0.000547</td>\n",
       "      <td>0.0</td>\n",
       "      <td>0.0</td>\n",
       "      <td>1.0</td>\n",
       "    </tr>\n",
       "    <tr>\n",
       "      <th>3</th>\n",
       "      <td>643.0</td>\n",
       "      <td>-238.287947</td>\n",
       "      <td>-9.249352</td>\n",
       "      <td>0.0</td>\n",
       "      <td>7.351470</td>\n",
       "      <td>0.0</td>\n",
       "      <td>100.0</td>\n",
       "      <td>100.0</td>\n",
       "      <td>450.0</td>\n",
       "      <td>7.150941</td>\n",
       "      <td>...</td>\n",
       "      <td>0.0</td>\n",
       "      <td>0.0</td>\n",
       "      <td>0.0</td>\n",
       "      <td>0.0</td>\n",
       "      <td>0.0</td>\n",
       "      <td>0.0</td>\n",
       "      <td>0.000000</td>\n",
       "      <td>0.0</td>\n",
       "      <td>0.0</td>\n",
       "      <td>1.0</td>\n",
       "    </tr>\n",
       "    <tr>\n",
       "      <th>4</th>\n",
       "      <td>616.0</td>\n",
       "      <td>-248.047675</td>\n",
       "      <td>76.836857</td>\n",
       "      <td>0.0</td>\n",
       "      <td>728.571866</td>\n",
       "      <td>1.0</td>\n",
       "      <td>5.0</td>\n",
       "      <td>14.0</td>\n",
       "      <td>228.0</td>\n",
       "      <td>405.908832</td>\n",
       "      <td>...</td>\n",
       "      <td>0.0</td>\n",
       "      <td>0.0</td>\n",
       "      <td>0.0</td>\n",
       "      <td>0.0</td>\n",
       "      <td>0.0</td>\n",
       "      <td>0.0</td>\n",
       "      <td>0.000402</td>\n",
       "      <td>0.0</td>\n",
       "      <td>0.0</td>\n",
       "      <td>1.0</td>\n",
       "    </tr>\n",
       "    <tr>\n",
       "      <th>5</th>\n",
       "      <td>396.0</td>\n",
       "      <td>265.553636</td>\n",
       "      <td>109.882365</td>\n",
       "      <td>0.0</td>\n",
       "      <td>1000.000000</td>\n",
       "      <td>2.0</td>\n",
       "      <td>5.0</td>\n",
       "      <td>14.0</td>\n",
       "      <td>366.0</td>\n",
       "      <td>540.000000</td>\n",
       "      <td>...</td>\n",
       "      <td>0.0</td>\n",
       "      <td>0.0</td>\n",
       "      <td>0.0</td>\n",
       "      <td>0.0</td>\n",
       "      <td>0.0</td>\n",
       "      <td>0.0</td>\n",
       "      <td>0.000000</td>\n",
       "      <td>0.0</td>\n",
       "      <td>0.0</td>\n",
       "      <td>1.0</td>\n",
       "    </tr>\n",
       "    <tr>\n",
       "      <th>6</th>\n",
       "      <td>725.0</td>\n",
       "      <td>-8.092607</td>\n",
       "      <td>7.446138</td>\n",
       "      <td>0.0</td>\n",
       "      <td>912.774130</td>\n",
       "      <td>1.0</td>\n",
       "      <td>5.0</td>\n",
       "      <td>14.0</td>\n",
       "      <td>468.0</td>\n",
       "      <td>500.932298</td>\n",
       "      <td>...</td>\n",
       "      <td>0.0</td>\n",
       "      <td>0.0</td>\n",
       "      <td>0.0</td>\n",
       "      <td>0.0</td>\n",
       "      <td>0.0</td>\n",
       "      <td>0.0</td>\n",
       "      <td>0.000785</td>\n",
       "      <td>0.0</td>\n",
       "      <td>0.0</td>\n",
       "      <td>1.0</td>\n",
       "    </tr>\n",
       "    <tr>\n",
       "      <th>7</th>\n",
       "      <td>964.0</td>\n",
       "      <td>245.784567</td>\n",
       "      <td>176.637818</td>\n",
       "      <td>0.0</td>\n",
       "      <td>383.762417</td>\n",
       "      <td>2.0</td>\n",
       "      <td>5.0</td>\n",
       "      <td>14.0</td>\n",
       "      <td>36.0</td>\n",
       "      <td>215.614390</td>\n",
       "      <td>...</td>\n",
       "      <td>0.0</td>\n",
       "      <td>0.0</td>\n",
       "      <td>0.0</td>\n",
       "      <td>0.0</td>\n",
       "      <td>0.0</td>\n",
       "      <td>0.0</td>\n",
       "      <td>0.000000</td>\n",
       "      <td>0.0</td>\n",
       "      <td>0.0</td>\n",
       "      <td>1.0</td>\n",
       "    </tr>\n",
       "    <tr>\n",
       "      <th>8</th>\n",
       "      <td>367.0</td>\n",
       "      <td>-88.045385</td>\n",
       "      <td>-82.870043</td>\n",
       "      <td>0.0</td>\n",
       "      <td>933.721148</td>\n",
       "      <td>1.0</td>\n",
       "      <td>5.0</td>\n",
       "      <td>14.0</td>\n",
       "      <td>480.0</td>\n",
       "      <td>510.015531</td>\n",
       "      <td>...</td>\n",
       "      <td>0.0</td>\n",
       "      <td>0.0</td>\n",
       "      <td>0.0</td>\n",
       "      <td>0.0</td>\n",
       "      <td>0.0</td>\n",
       "      <td>0.0</td>\n",
       "      <td>0.000550</td>\n",
       "      <td>0.0</td>\n",
       "      <td>0.0</td>\n",
       "      <td>1.0</td>\n",
       "    </tr>\n",
       "    <tr>\n",
       "      <th>9</th>\n",
       "      <td>675.0</td>\n",
       "      <td>162.758870</td>\n",
       "      <td>106.807035</td>\n",
       "      <td>0.0</td>\n",
       "      <td>930.332382</td>\n",
       "      <td>2.0</td>\n",
       "      <td>5.0</td>\n",
       "      <td>14.0</td>\n",
       "      <td>540.0</td>\n",
       "      <td>509.444573</td>\n",
       "      <td>...</td>\n",
       "      <td>0.0</td>\n",
       "      <td>0.0</td>\n",
       "      <td>0.0</td>\n",
       "      <td>0.0</td>\n",
       "      <td>0.0</td>\n",
       "      <td>0.0</td>\n",
       "      <td>0.000000</td>\n",
       "      <td>0.0</td>\n",
       "      <td>0.0</td>\n",
       "      <td>1.0</td>\n",
       "    </tr>\n",
       "  </tbody>\n",
       "</table>\n",
       "<p>10 rows × 105 columns</p>\n",
       "</div>"
      ],
      "text/plain": [
       "      ID  position_x  position_y  position_z  total_volume  cell_type  \\\n",
       "0  621.0  -60.147680  130.878286         0.0   1000.000000        2.0   \n",
       "1  487.0  -29.402090  -36.329676         0.0   1000.000000        2.0   \n",
       "2  708.0 -166.741754  230.899160         0.0    927.988713        1.0   \n",
       "3  643.0 -238.287947   -9.249352         0.0      7.351470        0.0   \n",
       "4  616.0 -248.047675   76.836857         0.0    728.571866        1.0   \n",
       "5  396.0  265.553636  109.882365         0.0   1000.000000        2.0   \n",
       "6  725.0   -8.092607    7.446138         0.0    912.774130        1.0   \n",
       "7  964.0  245.784567  176.637818         0.0    383.762417        2.0   \n",
       "8  367.0  -88.045385  -82.870043         0.0    933.721148        1.0   \n",
       "9  675.0  162.758870  106.807035         0.0    930.332382        2.0   \n",
       "\n",
       "   cycle_model  current_phase  elapsed_time_in_phase  nuclear_volume  ...  \\\n",
       "0          5.0           14.0                  204.0      540.000000  ...   \n",
       "1          5.0           14.0                  156.0      540.000000  ...   \n",
       "2          5.0           14.0                  492.0      507.864473  ...   \n",
       "3        100.0          100.0                  450.0        7.150941  ...   \n",
       "4          5.0           14.0                  228.0      405.908832  ...   \n",
       "5          5.0           14.0                  366.0      540.000000  ...   \n",
       "6          5.0           14.0                  468.0      500.932298  ...   \n",
       "7          5.0           14.0                   36.0      215.614390  ...   \n",
       "8          5.0           14.0                  480.0      510.015531  ...   \n",
       "9          5.0           14.0                  540.0      509.444573  ...   \n",
       "\n",
       "   fusion_rates_1  fusion_rates_2  fusion_rates_3  fusion_rates_4  \\\n",
       "0             0.0             0.0             0.0             0.0   \n",
       "1             0.0             0.0             0.0             0.0   \n",
       "2             0.0             0.0             0.0             0.0   \n",
       "3             0.0             0.0             0.0             0.0   \n",
       "4             0.0             0.0             0.0             0.0   \n",
       "5             0.0             0.0             0.0             0.0   \n",
       "6             0.0             0.0             0.0             0.0   \n",
       "7             0.0             0.0             0.0             0.0   \n",
       "8             0.0             0.0             0.0             0.0   \n",
       "9             0.0             0.0             0.0             0.0   \n",
       "\n",
       "   transformation_rates_0  transformation_rates_1  transformation_rates_2  \\\n",
       "0                     0.0                     0.0                0.000000   \n",
       "1                     0.0                     0.0                0.000000   \n",
       "2                     0.0                     0.0                0.000547   \n",
       "3                     0.0                     0.0                0.000000   \n",
       "4                     0.0                     0.0                0.000402   \n",
       "5                     0.0                     0.0                0.000000   \n",
       "6                     0.0                     0.0                0.000785   \n",
       "7                     0.0                     0.0                0.000000   \n",
       "8                     0.0                     0.0                0.000550   \n",
       "9                     0.0                     0.0                0.000000   \n",
       "\n",
       "   transformation_rates_3  transformation_rates_4  sample  \n",
       "0                     0.0                     0.0     1.0  \n",
       "1                     0.0                     0.0     1.0  \n",
       "2                     0.0                     0.0     1.0  \n",
       "3                     0.0                     0.0     1.0  \n",
       "4                     0.0                     0.0     1.0  \n",
       "5                     0.0                     0.0     1.0  \n",
       "6                     0.0                     0.0     1.0  \n",
       "7                     0.0                     0.0     1.0  \n",
       "8                     0.0                     0.0     1.0  \n",
       "9                     0.0                     0.0     1.0  \n",
       "\n",
       "[10 rows x 105 columns]"
      ]
     },
     "execution_count": 25,
     "metadata": {},
     "output_type": "execute_result"
    }
   ],
   "source": [
    "cell_df = mcds.get_cell_df() \n",
    "cell_df[:10]\n"
   ]
  },
  {
   "cell_type": "code",
   "execution_count": 46,
   "id": "456396c1",
   "metadata": {},
   "outputs": [
    {
     "name": "stdout",
     "output_type": "stream",
     "text": [
      "          ID  position_x  position_y  position_z  total_volume  cell_type  \\\n",
      "0      621.0  -60.147680  130.878286         0.0   1000.000000        2.0   \n",
      "1      487.0  -29.402090  -36.329676         0.0   1000.000000        2.0   \n",
      "5      396.0  265.553636  109.882365         0.0   1000.000000        2.0   \n",
      "7      964.0  245.784567  176.637818         0.0    383.762417        2.0   \n",
      "9      675.0  162.758870  106.807035         0.0    930.332382        2.0   \n",
      "...      ...         ...         ...         ...           ...        ...   \n",
      "1026  1285.0  -93.609103   17.060844         0.0    470.971642        2.0   \n",
      "1027  1286.0  -42.902617  244.070165         0.0    493.053724        2.0   \n",
      "1029  1288.0   69.218862 -114.442850         0.0    484.928083        2.0   \n",
      "1030  1289.0  143.045411  -50.389594         0.0    259.596535        2.0   \n",
      "1031  1290.0  -52.959192  138.929251         0.0    459.739561        2.0   \n",
      "\n",
      "      cycle_model  current_phase  elapsed_time_in_phase  nuclear_volume  ...  \\\n",
      "0             5.0           14.0                  204.0      540.000000  ...   \n",
      "1             5.0           14.0                  156.0      540.000000  ...   \n",
      "5             5.0           14.0                  366.0      540.000000  ...   \n",
      "7             5.0           14.0                   36.0      215.614390  ...   \n",
      "9             5.0           14.0                  540.0      509.444573  ...   \n",
      "...           ...            ...                    ...             ...  ...   \n",
      "1026          5.0           14.0                    0.0      256.947677  ...   \n",
      "1027          5.0           14.0                    0.0      267.340719  ...   \n",
      "1029          5.0           14.0                    0.0      263.594739  ...   \n",
      "1030          5.0           14.0                    0.0      140.854079  ...   \n",
      "1031          5.0           14.0                    0.0      251.396484  ...   \n",
      "\n",
      "      fusion_rates_1  fusion_rates_2  fusion_rates_3  fusion_rates_4  \\\n",
      "0                0.0             0.0             0.0             0.0   \n",
      "1                0.0             0.0             0.0             0.0   \n",
      "5                0.0             0.0             0.0             0.0   \n",
      "7                0.0             0.0             0.0             0.0   \n",
      "9                0.0             0.0             0.0             0.0   \n",
      "...              ...             ...             ...             ...   \n",
      "1026             0.0             0.0             0.0             0.0   \n",
      "1027             0.0             0.0             0.0             0.0   \n",
      "1029             0.0             0.0             0.0             0.0   \n",
      "1030             0.0             0.0             0.0             0.0   \n",
      "1031             0.0             0.0             0.0             0.0   \n",
      "\n",
      "      transformation_rates_0  transformation_rates_1  transformation_rates_2  \\\n",
      "0                        0.0                     0.0                     0.0   \n",
      "1                        0.0                     0.0                     0.0   \n",
      "5                        0.0                     0.0                     0.0   \n",
      "7                        0.0                     0.0                     0.0   \n",
      "9                        0.0                     0.0                     0.0   \n",
      "...                      ...                     ...                     ...   \n",
      "1026                     0.0                     0.0                     0.0   \n",
      "1027                     0.0                     0.0                     0.0   \n",
      "1029                     0.0                     0.0                     0.0   \n",
      "1030                     0.0                     0.0                     0.0   \n",
      "1031                     0.0                     0.0                     0.0   \n",
      "\n",
      "      transformation_rates_3  transformation_rates_4  sample  \n",
      "0                        0.0                     0.0     1.0  \n",
      "1                        0.0                     0.0     1.0  \n",
      "5                        0.0                     0.0     1.0  \n",
      "7                        0.0                     0.0     1.0  \n",
      "9                        0.0                     0.0     1.0  \n",
      "...                      ...                     ...     ...  \n",
      "1026                     0.0                     0.0     1.0  \n",
      "1027                     0.0                     0.0     1.0  \n",
      "1029                     0.0                     0.0     1.0  \n",
      "1030                     0.0                     0.0     1.0  \n",
      "1031                     0.0                     0.0     1.0  \n",
      "\n",
      "[475 rows x 105 columns]\n"
     ]
    }
   ],
   "source": [
    "TU_df=cell_df.loc[cell_df['cell_type'] == 2]\n",
    "print(TU_df.loc[TU_df['cycle_model']==5.0])"
   ]
  },
  {
   "cell_type": "code",
   "execution_count": 6,
   "id": "4eaa1325",
   "metadata": {},
   "outputs": [
    {
     "name": "stdout",
     "output_type": "stream",
     "text": [
      "1001\n",
      "33\n"
     ]
    }
   ],
   "source": [
    "cycle = mcds.data['discrete_cells']['cycle_model']\n",
    "cycle = cycle.astype( int ) \n",
    "\n",
    "live = np.argwhere( cycle < 100 ).flatten()\n",
    "dead = np.argwhere( cycle >= 100 ).flatten()\n",
    "\n",
    "print( len( live) )\n",
    "print( len(dead) )"
   ]
  },
  {
   "cell_type": "markdown",
   "id": "ed04d554",
   "metadata": {},
   "source": [
    "### Code Section 8"
   ]
  },
  {
   "cell_type": "code",
   "execution_count": 7,
   "id": "e3337986",
   "metadata": {},
   "outputs": [
    {
     "name": "stdout",
     "output_type": "stream",
     "text": [
      "1001\n",
      "33\n"
     ]
    },
    {
     "ename": "NameError",
     "evalue": "name 'op' is not defined",
     "output_type": "error",
     "traceback": [
      "\u001b[0;31m---------------------------------------------------------------------------\u001b[0m",
      "\u001b[0;31mNameError\u001b[0m                                 Traceback (most recent call last)",
      "Input \u001b[0;32mIn [7]\u001b[0m, in \u001b[0;36m<cell line: 6>\u001b[0;34m()\u001b[0m\n\u001b[1;32m      3\u001b[0m n_dead \u001b[38;5;241m=\u001b[39m \u001b[38;5;28mlen\u001b[39m( dead ); \u001b[38;5;28mprint\u001b[39m( n_dead ); \n\u001b[1;32m      5\u001b[0m \u001b[38;5;66;03m# Mean oncoprotein in live cells only \u001b[39;00m\n\u001b[0;32m----> 6\u001b[0m \u001b[38;5;28mprint\u001b[39m( np\u001b[38;5;241m.\u001b[39mmean( \u001b[43mop\u001b[49m[live] ) )\n\u001b[1;32m      9\u001b[0m \u001b[38;5;66;03m# Let's scatter plot of only live cells  \u001b[39;00m\n\u001b[1;32m     10\u001b[0m plt\u001b[38;5;241m.\u001b[39mclf()\n",
      "\u001b[0;31mNameError\u001b[0m: name 'op' is not defined"
     ]
    }
   ],
   "source": [
    "# Live and dead cell counts\n",
    "n_live = len( live ); print( n_live) \n",
    "n_dead = len( dead ); print( n_dead ); \n",
    "\n",
    "# Mean oncoprotein in live cells only \n",
    "print( np.mean( op[live] ) )\n",
    "\n",
    "\n",
    "# Let's scatter plot of only live cells  \n",
    "plt.clf()\n",
    "plt.scatter( cx[live],cy[live],c=op[live],s=5); \n",
    "plt.colorbar()\n",
    "plt.axis('image')\n",
    "plt.axis([-400,400,-400,400])\n",
    "plt.title( 'Live cells colored by p at t=' +str(t/60) + ' hr',size=20)"
   ]
  },
  {
   "cell_type": "markdown",
   "id": "f17fc9d9",
   "metadata": {},
   "source": [
    "### Code Section 8a"
   ]
  },
  {
   "cell_type": "code",
   "execution_count": null,
   "id": "d554bfb7",
   "metadata": {},
   "outputs": [],
   "source": [
    "ind = np.argwhere( (cycle<100) & (op>5) ) .flatten()\n",
    "plt.clf()\n",
    "plt.scatter( cx[ind], cy[ind], c=op[ind], s=10 )\n",
    "plt.title( 'Live cells with p>5 at t='\\\n",
    "+str(t/60) + 'hr', size=20)\n",
    "plt.axis('image')\n",
    "plt.axis([-400,400,-400,400])\n",
    "plt.colorbar()"
   ]
  },
  {
   "cell_type": "markdown",
   "id": "6ee8560f",
   "metadata": {},
   "source": [
    "### Code Section 9 "
   ]
  },
  {
   "cell_type": "code",
   "execution_count": 17,
   "id": "fbbd1ac3",
   "metadata": {},
   "outputs": [
    {
     "name": "stdout",
     "output_type": "stream",
     "text": [
      "['PI', 'AI']\n"
     ]
    },
    {
     "data": {
      "text/plain": [
       "<Figure size 432x288 with 0 Axes>"
      ]
     },
     "metadata": {},
     "output_type": "display_data"
    }
   ],
   "source": [
    "plt.clf()\n",
    "print( mcds.get_substrate_names() ); "
   ]
  },
  {
   "cell_type": "code",
   "execution_count": 18,
   "id": "ac779a43",
   "metadata": {},
   "outputs": [
    {
     "data": {
      "text/plain": [
       "(-740.0, 740.0, -740.0, 740.0)"
      ]
     },
     "execution_count": 18,
     "metadata": {},
     "output_type": "execute_result"
    },
    {
     "data": {
      "image/png": "[encoded data removed]",
      "text/plain": [
       "<Figure size 432x288 with 2 Axes>"
      ]
     },
     "metadata": {
      "needs_background": "light"
     },
     "output_type": "display_data"
    }
   ],
   "source": [
    "o2 = mcds.get_concentrations( 'AI' );\n",
    "X,Y = mcds.get_2D_mesh(); \n",
    "\n",
    "plt.clf()\n",
    "plt.contourf(X,Y,o2[:,:,0]);\n",
    "plt.colorbar()\n",
    "plt.axis('image')"
   ]
  },
  {
   "cell_type": "markdown",
   "id": "04c85355",
   "metadata": {},
   "source": [
    "### Code Section 10 "
   ]
  },
  {
   "cell_type": "code",
   "execution_count": 21,
   "id": "e80df018",
   "metadata": {},
   "outputs": [
    {
     "ename": "NameError",
     "evalue": "name 't' is not defined",
     "output_type": "error",
     "traceback": [
      "\u001b[0;31m---------------------------------------------------------------------------\u001b[0m",
      "\u001b[0;31mNameError\u001b[0m                                 Traceback (most recent call last)",
      "Input \u001b[0;32mIn [21]\u001b[0m, in \u001b[0;36m<cell line: 14>\u001b[0;34m()\u001b[0m\n\u001b[1;32m     12\u001b[0m plt\u001b[38;5;241m.\u001b[39maxis(\u001b[38;5;124m'\u001b[39m\u001b[38;5;124mimage\u001b[39m\u001b[38;5;124m'\u001b[39m)\n\u001b[1;32m     13\u001b[0m plt\u001b[38;5;241m.\u001b[39maxis([\u001b[38;5;241m-\u001b[39m\u001b[38;5;241m750\u001b[39m,\u001b[38;5;241m750\u001b[39m,\u001b[38;5;241m-\u001b[39m\u001b[38;5;241m750\u001b[39m,\u001b[38;5;241m750\u001b[39m])\n\u001b[0;32m---> 14\u001b[0m plt\u001b[38;5;241m.\u001b[39mtitle( \u001b[38;5;124m'\u001b[39m\u001b[38;5;124mLive cells colored by p at t=\u001b[39m\u001b[38;5;124m'\u001b[39m \u001b[38;5;241m+\u001b[39m\u001b[38;5;28mstr\u001b[39m(\u001b[43mt\u001b[49m\u001b[38;5;241m/\u001b[39m\u001b[38;5;241m60\u001b[39m) \u001b[38;5;241m+\u001b[39m \u001b[38;5;124m'\u001b[39m\u001b[38;5;124m hr\u001b[39m\u001b[38;5;124m'\u001b[39m, size\u001b[38;5;241m=\u001b[39m\u001b[38;5;241m20\u001b[39m)\n\u001b[1;32m     16\u001b[0m \u001b[38;5;66;03m# let's plot dead cells as white and transparent\u001b[39;00m\n\u001b[1;32m     17\u001b[0m plt\u001b[38;5;241m.\u001b[39mscatter( cx[dead],cy[dead],c\u001b[38;5;241m=\u001b[39m\u001b[38;5;124m'\u001b[39m\u001b[38;5;124mw\u001b[39m\u001b[38;5;124m'\u001b[39m,s\u001b[38;5;241m=\u001b[39mcircle_size, alpha\u001b[38;5;241m=\u001b[39m\u001b[38;5;241m0.5\u001b[39m )\n",
      "\u001b[0;31mNameError\u001b[0m: name 't' is not defined"
     ]
    },
    {
     "data": {
      "image/png": "[encoded data removed]",
      "text/plain": [
       "<Figure size 432x288 with 2 Axes>"
      ]
     },
     "metadata": {
      "needs_background": "light"
     },
     "output_type": "display_data"
    }
   ],
   "source": [
    "circle_size = 5\n",
    "\n",
    "plt.clf()\n",
    "mcds.get_substrate_names(); \n",
    "\n",
    "o2 = mcds.get_concentrations( 'PI' );\n",
    "X,Y = mcds.get_2D_mesh(); \n",
    "plt.contourf(X,Y,o2[:,:,0],cmap='spring');\n",
    "plt.colorbar()\n",
    "\n",
    "plt.scatter( cx[live],cy[live],s=circle_size); \n",
    "plt.axis('image')\n",
    "plt.axis([-750,750,-750,750])\n",
    "plt.title( 'Live cells colored by p at t=' +str(t/60) + ' hr', size=20)\n",
    "\n",
    "# let's plot dead cells as white and transparent\n",
    "plt.scatter( cx[dead],cy[dead],c='w',s=circle_size, alpha=0.5 ); "
   ]
  },
  {
   "cell_type": "markdown",
   "id": "11aac970",
   "metadata": {},
   "source": [
    "### Code Section 11"
   ]
  },
  {
   "cell_type": "code",
   "execution_count": 42,
   "id": "22418280",
   "metadata": {},
   "outputs": [
    {
     "name": "stdout",
     "output_type": "stream",
     "text": [
      "Reading output/output00000000.xml\n",
      "Reading output/initial_mesh0.mat\n",
      "Reading output/output00000000_microenvironment0.mat\n",
      "Parsing PI data\n",
      "Parsing AI data\n",
      "working on discrete cell data...\n",
      "\n",
      "Reading output/output00000000_cells.mat\n",
      "Reading output/output00000001.xml\n",
      "Reading output/initial_mesh0.mat\n",
      "Reading output/output00000001_microenvironment0.mat\n",
      "Parsing PI data\n",
      "Parsing AI data\n",
      "working on discrete cell data...\n",
      "\n",
      "Reading output/output00000001_cells.mat\n",
      "Reading output/output00000002.xml\n",
      "Reading output/initial_mesh0.mat\n",
      "Reading output/output00000002_microenvironment0.mat\n",
      "Parsing PI data\n",
      "Parsing AI data\n",
      "working on discrete cell data...\n",
      "\n",
      "Reading output/output00000002_cells.mat\n",
      "Reading output/output00000003.xml\n",
      "Reading output/initial_mesh0.mat\n",
      "Reading output/output00000003_microenvironment0.mat\n",
      "Parsing PI data\n",
      "Parsing AI data\n",
      "working on discrete cell data...\n",
      "\n",
      "Reading output/output00000003_cells.mat\n",
      "Reading output/output00000004.xml\n",
      "Reading output/initial_mesh0.mat\n",
      "Reading output/output00000004_microenvironment0.mat\n",
      "Parsing PI data\n",
      "Parsing AI data\n",
      "working on discrete cell data...\n",
      "\n",
      "Reading output/output00000004_cells.mat\n",
      "Reading output/output00000005.xml\n",
      "Reading output/initial_mesh0.mat\n",
      "Reading output/output00000005_microenvironment0.mat\n",
      "Parsing PI data\n",
      "Parsing AI data\n",
      "working on discrete cell data...\n",
      "\n",
      "Reading output/output00000005_cells.mat\n",
      "Reading output/output00000006.xml\n",
      "Reading output/initial_mesh0.mat\n",
      "Reading output/output00000006_microenvironment0.mat\n",
      "Parsing PI data\n",
      "Parsing AI data\n",
      "working on discrete cell data...\n",
      "\n",
      "Reading output/output00000006_cells.mat\n"
     ]
    }
   ],
   "source": [
    "# Let's get live and dead cell counts, mean p (in live cells). We need to loop overall simulation times \n",
    "\n",
    "last_index = 6;\n",
    "live_count = np.zeros( last_index+1 ); \n",
    "dead_count = np.zeros( last_index+1 );\n",
    "mean_p = np.zeros( last_index+1 );\n",
    "std_p = np.zeros( last_index+1 );\n",
    "times = np.zeros( last_index+1 ); \n",
    "for n in range( 0,last_index+1 ):\n",
    "\tfilename='output'+\"%08i\"%n+'.xml'\n",
    "\tmcds=pyMCDS(filename,'output')\n",
    "\ttimes[n]= mcds.get_time()\n",
    "\tcycle=mcds.data['discrete_cells']['cycle_model']\n",
    "\tlive = np.argwhere(cycle<100).flatten()\n",
    "\tdead = np.argwhere(cycle>=100).flatten()\n",
    "\tlive_count[n] = len(live)\n",
    "\tdead_count[n] = len(dead)\n"
   ]
  },
  {
   "cell_type": "markdown",
   "id": "41b474a6",
   "metadata": {},
   "source": [
    "### Code Section 12"
   ]
  },
  {
   "cell_type": "code",
   "execution_count": 43,
   "id": "8ce51f3f",
   "metadata": {},
   "outputs": [
    {
     "data": {
      "text/plain": [
       "<matplotlib.legend.Legend at 0x7ff39446bf40>"
      ]
     },
     "execution_count": 43,
     "metadata": {},
     "output_type": "execute_result"
    },
    {
     "data": {
      "image/png": "[encoded data removed]",
      "text/plain": [
       "<Figure size 432x288 with 1 Axes>"
      ]
     },
     "metadata": {
      "needs_background": "light"
     },
     "output_type": "display_data"
    }
   ],
   "source": [
    "plt.clf()\n",
    "plt.plot( times, live_count , 'r-o' )\n",
    "plt.plot( times, dead_count , 'b-o' ); \n",
    "plt.legend( {'live', 'dead' } ) "
   ]
  },
  {
   "cell_type": "code",
   "execution_count": null,
   "id": "fd735478",
   "metadata": {},
   "outputs": [],
   "source": [
    "poly=np.polyfit( times,np.log(live_count),1) \n",
    "print( poly[0] )\n",
    "# growth rate is 0th element\n",
    "# in units of 1/min \n",
    "# 0.0003373436446715521"
   ]
  },
  {
   "cell_type": "code",
   "execution_count": null,
   "id": "13506cf1",
   "metadata": {},
   "outputs": [],
   "source": [
    "plt.clf()\n",
    "plt.plot(times,mean_p);\n",
    "# mean increases rapidly \n",
    "# due to selection processes\n"
   ]
  },
  {
   "cell_type": "markdown",
   "id": "646daa86",
   "metadata": {},
   "source": [
    "### Code Section 13"
   ]
  },
  {
   "cell_type": "code",
   "execution_count": null,
   "id": "4d6569e4",
   "metadata": {},
   "outputs": [],
   "source": [
    "n = 3\n",
    "filename='output'+\"%08i\"%n+'.xml'\n",
    "mcds=pyMCDS(filename,'output')\n",
    "t = mcds.get_time()\n",
    "cell_type=mcds.data['discrete_cells']['cell_type']\n",
    "cell_type=cell_type.astype(int)\n",
    "\n",
    "ind1 = np.argwhere(cell_type==1).flatten(); # director \n",
    "ind2 = np.argwhere(cell_type==2).flatten(); # cargo \n",
    "ind3 = np.argwhere(cell_type==3).flatten(); # worker \n",
    "\n",
    "cx = mcds.data['discrete_cells']['position_x']\n",
    "cy = mcds.data['discrete_cells']['position_y']"
   ]
  },
  {
   "cell_type": "markdown",
   "id": "dfb38d7b",
   "metadata": {},
   "source": [
    "### Code Section 14"
   ]
  },
  {
   "cell_type": "code",
   "execution_count": null,
   "id": "72f60be3",
   "metadata": {},
   "outputs": [],
   "source": [
    "circle_size=20\n",
    "\n",
    "plt.clf()\n",
    "# plt.figure(figsize=(15,15))\n",
    "plt.scatter(cx[ind1],cy[ind1],c='g',s=circle_size) \n",
    "plt.scatter(cx[ind2],cy[ind2],c='b',s=circle_size) \n",
    "plt.scatter(cx[ind3],cy[ind3],c='r',s=circle_size) \n",
    "plt.axis('square');"
   ]
  },
  {
   "cell_type": "markdown",
   "id": "dffd4671",
   "metadata": {},
   "source": [
    "### Code Section 15"
   ]
  },
  {
   "cell_type": "code",
   "execution_count": null,
   "id": "e7661a8c",
   "metadata": {},
   "outputs": [],
   "source": [
    "mcds.get_substrate_names(); \n",
    "\n",
    "cs = mcds.get_concentrations( 'cargo signal' );\n",
    "X,Y = mcds.get_2D_mesh(); \n",
    "\n",
    "plt.clf()\n",
    "# plt.figure(figsize=(15,15))\n",
    "plt.contourf(X,Y,cs[:,:,0],cmap='gray');\n",
    "\n",
    "plt.scatter(cx[ind1],cy[ind1],c='g',s=circle_size) \n",
    "plt.scatter(cx[ind2],cy[ind2],c='b',s=circle_size) \n",
    "plt.scatter(cx[ind3],cy[ind3],c='r',s=circle_size) \n",
    "plt.axis('square');"
   ]
  },
  {
   "cell_type": "code",
   "execution_count": null,
   "id": "4cc9f187",
   "metadata": {},
   "outputs": [],
   "source": []
  }
 ],
 "metadata": {
  "kernelspec": {
   "display_name": "Python 3 (ipykernel)",
   "language": "python",
   "name": "python3"
  },
  "language_info": {
   "codemirror_mode": {
    "name": "ipython",
    "version": 3
   },
   "file_extension": ".py",
   "mimetype": "text/x-python",
   "name": "python",
   "nbconvert_exporter": "python",
   "pygments_lexer": "ipython3",
   "version": "3.9.12"
  }
 },
 "nbformat": 4,
 "nbformat_minor": 5
}
